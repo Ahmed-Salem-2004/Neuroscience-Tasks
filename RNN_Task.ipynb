{
 "cells": [
  {
   "cell_type": "code",
   "execution_count": 1,
   "id": "21a86680",
   "metadata": {},
   "outputs": [],
   "source": [
    "# Import required libraries\n",
    "import numpy as np\n",
    "import matplotlib.pyplot as plt\n"
   ]
  },
  {
   "cell_type": "code",
   "execution_count": 2,
   "id": "2463c582",
   "metadata": {},
   "outputs": [],
   "source": [
    "# Data Helpers\n",
    "def create_vocab(text):\n",
    "    chars = sorted(set(text))\n",
    "    char_to_ix = {ch: i for i, ch in enumerate(chars)}\n",
    "    ix_to_char = {i: ch for i, ch in enumerate(chars)}\n",
    "    return char_to_ix, ix_to_char\n",
    "\n",
    "def one_hot_encode(index, vocab_size):\n",
    "    vec = np.zeros((vocab_size, 1))\n",
    "    vec[index] = 1\n",
    "    return vec"
   ]
  },
  {
   "cell_type": "code",
   "execution_count": 3,
   "id": "a63f3483",
   "metadata": {},
   "outputs": [],
   "source": [
    "# Activation\n",
    "def softmax(x):\n",
    "    e_x = np.exp(x - np.max(x))\n",
    "    return e_x / np.sum(e_x, axis=0)\n",
    "\n",
    "def cross_entropy(y_pred, y_true_index):\n",
    "    return -np.log(y_pred[y_true_index, 0] + 1e-9)\n",
    "\n",
    "def d_cross_entropy(y_pred, y_true):\n",
    "    grad = y_pred.copy()\n",
    "    idx = np.argmax(y_true)\n",
    "    grad[idx] -= 1\n",
    "    return grad\n"
   ]
  },
  {
   "cell_type": "code",
   "execution_count": 4,
   "id": "eccfabab",
   "metadata": {},
   "outputs": [],
   "source": [
    "# RNN Implementation\n",
    "class CharRNN:\n",
    "    def __init__(self, input_size, hidden_size, output_size):\n",
    "        self.hidden_size = hidden_size\n",
    "        self.Wxh = np.random.randn(hidden_size, input_size) * 0.01\n",
    "        self.Whh = np.random.randn(hidden_size, hidden_size) * 0.01\n",
    "        self.Why = np.random.randn(output_size, hidden_size) * 0.01\n",
    "        self.bh = np.zeros((hidden_size, 1))\n",
    "        self.by = np.zeros((output_size, 1))\n",
    "\n",
    "    def forward(self, inputs):\n",
    "        self.inputs = inputs\n",
    "        self.hs = {}\n",
    "        h = np.zeros((self.hidden_size, 1))\n",
    "        self.hs[-1] = h\n",
    "        outputs = []\n",
    "\n",
    "        for t, x in enumerate(inputs):\n",
    "            h = np.tanh(np.dot(self.Wxh, x) + np.dot(self.Whh, h) + self.bh)\n",
    "            y = np.dot(self.Why, h) + self.by\n",
    "            outputs.append(softmax(y))\n",
    "            self.hs[t] = h\n",
    "        return outputs\n",
    "\n",
    "    def backward(self, targets, outputs, learning_rate=0.1):\n",
    "        dWxh = np.zeros_like(self.Wxh)\n",
    "        dWhh = np.zeros_like(self.Whh)\n",
    "        dWhy = np.zeros_like(self.Why)\n",
    "        dbh = np.zeros_like(self.bh)\n",
    "        dby = np.zeros_like(self.by)\n",
    "        dh_next = np.zeros((self.hidden_size, 1))\n",
    "\n",
    "        for t in reversed(range(len(self.inputs))):\n",
    "            dy = d_cross_entropy(outputs[t], targets[t])\n",
    "            dWhy += np.dot(dy, self.hs[t].T)\n",
    "            dby += dy\n",
    "\n",
    "            dh = np.dot(self.Why.T, dy) + dh_next\n",
    "            dh_raw = (1 - self.hs[t] ** 2) * dh\n",
    "            dbh += dh_raw\n",
    "            dWxh += np.dot(dh_raw, self.inputs[t].T)\n",
    "            dWhh += np.dot(dh_raw, self.hs[t-1].T)\n",
    "            dh_next = np.dot(self.Whh.T, dh_raw)\n",
    "\n",
    "        for dparam in [dWxh, dWhh, dWhy, dbh, dby]:\n",
    "            np.clip(dparam, -1, 1, out=dparam)\n",
    "\n",
    "        self.Wxh -= learning_rate * dWxh\n",
    "        self.Whh -= learning_rate * dWhh\n",
    "        self.Why -= learning_rate * dWhy\n",
    "        self.bh  -= learning_rate * dbh\n",
    "        self.by  -= learning_rate * dby"
   ]
  },
  {
   "cell_type": "code",
   "execution_count": 5,
   "id": "8e5c8e64",
   "metadata": {},
   "outputs": [],
   "source": [
    "# Data Preparation \n",
    "text = \"i will praper my paper\"\n",
    "char_to_ix, ix_to_char = create_vocab(text)\n",
    "vocab_size = len(char_to_ix)\n",
    "\n",
    "# Create training data\n",
    "X_data = [one_hot_encode(char_to_ix[text[i]], vocab_size) \n",
    "          for i in range(len(text)-1)]\n",
    "Y_data = [one_hot_encode(char_to_ix[text[i+1]], vocab_size) \n",
    "          for i in range(len(text)-1)]"
   ]
  },
  {
   "cell_type": "code",
   "execution_count": 6,
   "id": "5867a897",
   "metadata": {},
   "outputs": [
    {
     "name": "stdout",
     "output_type": "stream",
     "text": [
      "Epoch 0, Loss: 2.3025\n",
      "Epoch 100, Loss: 0.0121\n",
      "Epoch 200, Loss: 0.0042\n",
      "Epoch 300, Loss: 0.0025\n",
      "Epoch 400, Loss: 0.0018\n",
      "Epoch 500, Loss: 0.0014\n",
      "Epoch 600, Loss: 0.0011\n",
      "Epoch 700, Loss: 0.0009\n",
      "Epoch 800, Loss: 0.0008\n",
      "Epoch 900, Loss: 0.0007\n",
      "Epoch 1000, Loss: 0.0006\n",
      "Epoch 1100, Loss: 0.0006\n",
      "Epoch 1200, Loss: 0.0005\n",
      "Epoch 1300, Loss: 0.0005\n",
      "Epoch 1400, Loss: 0.0004\n",
      "Epoch 1500, Loss: 0.0004\n",
      "Epoch 1600, Loss: 0.0004\n",
      "Epoch 1700, Loss: 0.0004\n",
      "Epoch 1800, Loss: 0.0003\n",
      "Epoch 1900, Loss: 0.0003\n"
     ]
    }
   ],
   "source": [
    "# Training\n",
    "rnn = CharRNN(input_size=vocab_size, hidden_size=16, output_size=vocab_size)\n",
    "epochs = 2000\n",
    "losses = []\n",
    "\n",
    "for epoch in range(epochs):\n",
    "    outputs = rnn.forward(X_data)\n",
    "    # Adjust loss calculation to match cross_entropy's expected y_true_index\n",
    "    loss = np.mean([cross_entropy(o, np.argmax(y)) for o, y in zip(outputs, Y_data)])\n",
    "    losses.append(loss)\n",
    "    \n",
    "    rnn.backward(Y_data, outputs, learning_rate=0.1)\n",
    "    \n",
    "    if epoch % 100 == 0:\n",
    "        print(f\"Epoch {epoch}, Loss: {loss:.4f}\")\n"
   ]
  },
  {
   "cell_type": "code",
   "execution_count": 7,
   "id": "dee245ff",
   "metadata": {},
   "outputs": [],
   "source": [
    "# Text Generation\n",
    "def generate_sequence(rnn, start_char, length, char_to_ix, ix_to_char):\n",
    "    \"\"\"Generate text sequence starting with given character.\"\"\"\n",
    "    idx = char_to_ix[start_char]\n",
    "    x = one_hot_encode(idx, len(char_to_ix))\n",
    "    h = np.zeros((rnn.hidden_size, 1))\n",
    "    sequence = [start_char]\n",
    "\n",
    "    for _ in range(length):\n",
    "        h = np.tanh(np.dot(rnn.Wxh, x) + np.dot(rnn.Whh, h) + rnn.bh)\n",
    "        y = np.dot(rnn.Why, h) + rnn.by\n",
    "        probs = softmax(y)\n",
    "        idx = np.random.choice(range(len(char_to_ix)), p=probs.ravel())\n",
    "        x = one_hot_encode(idx, len(char_to_ix))\n",
    "        sequence.append(ix_to_char[idx])\n",
    "\n",
    "    return ''.join(sequence)\n"
   ]
  },
  {
   "cell_type": "code",
   "execution_count": 8,
   "id": "b2200654",
   "metadata": {},
   "outputs": [
    {
     "name": "stdout",
     "output_type": "stream",
     "text": [
      "Generated text: i will prape\n"
     ]
    }
   ],
   "source": [
    "# Generate and print sample text\n",
    "# Use 'i' as start character since 'd' is not in the text\n",
    "generated_text = generate_sequence(rnn, 'i', 11, char_to_ix, ix_to_char)\n",
    "print(f\"Generated text: {generated_text}\")"
   ]
  },
  {
   "cell_type": "code",
   "execution_count": 9,
   "id": "2c52d498",
   "metadata": {},
   "outputs": [
    {
     "data": {
      "image/png": "[encoded data removed]",
      "text/plain": [
       "<Figure size 640x480 with 1 Axes>"
      ]
     },
     "metadata": {},
     "output_type": "display_data"
    }
   ],
   "source": [
    "# Plot training loss\n",
    "plt.plot(losses)\n",
    "plt.xlabel('Epoch')\n",
    "plt.ylabel('Loss')\n",
    "plt.title('Training Loss Over Time')\n",
    "plt.show()"
   ]
  },
  {
   "cell_type": "code",
   "execution_count": null,
   "id": "c460ed4a",
   "metadata": {},
   "outputs": [],
   "source": []
  }
 ],
 "metadata": {
  "kernelspec": {
   "display_name": "Python 3 (ipykernel)",
   "language": "python",
   "name": "python3"
  },
  "language_info": {
   "codemirror_mode": {
    "name": "ipython",
    "version": 3
   },
   "file_extension": ".py",
   "mimetype": "text/x-python",
   "name": "python",
   "nbconvert_exporter": "python",
   "pygments_lexer": "ipython3",
   "version": "3.9.13"
  }
 },
 "nbformat": 4,
 "nbformat_minor": 5
}
